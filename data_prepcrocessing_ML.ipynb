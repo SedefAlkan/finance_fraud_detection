{
 "cells": [
  {
   "cell_type": "markdown",
   "id": "86dd139d",
   "metadata": {},
   "source": [
    "Data read and info"
   ]
  },
  {
   "cell_type": "code",
   "execution_count": 34,
   "id": "b17eb073",
   "metadata": {},
   "outputs": [
    {
     "name": "stdout",
     "output_type": "stream",
     "text": [
      "step                int64\n",
      "type               object\n",
      "amount            float64\n",
      "nameOrig           object\n",
      "oldbalanceOrg     float64\n",
      "newbalanceOrig    float64\n",
      "nameDest           object\n",
      "oldbalanceDest    float64\n",
      "newbalanceDest    float64\n",
      "isFraud             int64\n",
      "isFlaggedFraud      int64\n",
      "dtype: object\n"
     ]
    }
   ],
   "source": [
    "import pandas as pd\n",
    "df=pd.read_csv(\"PS_20174392719_1491204439457_log.csv\")\n",
    "print(df.dtypes)"
   ]
  },
  {
   "cell_type": "code",
   "execution_count": 35,
   "id": "1d982eb9",
   "metadata": {},
   "outputs": [
    {
     "data": {
      "text/html": [
       "<div>\n",
       "<style scoped>\n",
       "    .dataframe tbody tr th:only-of-type {\n",
       "        vertical-align: middle;\n",
       "    }\n",
       "\n",
       "    .dataframe tbody tr th {\n",
       "        vertical-align: top;\n",
       "    }\n",
       "\n",
       "    .dataframe thead th {\n",
       "        text-align: right;\n",
       "    }\n",
       "</style>\n",
       "<table border=\"1\" class=\"dataframe\">\n",
       "  <thead>\n",
       "    <tr style=\"text-align: right;\">\n",
       "      <th></th>\n",
       "      <th>step</th>\n",
       "      <th>type</th>\n",
       "      <th>amount</th>\n",
       "      <th>nameOrig</th>\n",
       "      <th>oldbalanceOrg</th>\n",
       "      <th>newbalanceOrig</th>\n",
       "      <th>nameDest</th>\n",
       "      <th>oldbalanceDest</th>\n",
       "      <th>newbalanceDest</th>\n",
       "      <th>isFraud</th>\n",
       "      <th>isFlaggedFraud</th>\n",
       "    </tr>\n",
       "  </thead>\n",
       "  <tbody>\n",
       "    <tr>\n",
       "      <th>0</th>\n",
       "      <td>1</td>\n",
       "      <td>PAYMENT</td>\n",
       "      <td>9839.64</td>\n",
       "      <td>C1231006815</td>\n",
       "      <td>170136.0</td>\n",
       "      <td>160296.36</td>\n",
       "      <td>M1979787155</td>\n",
       "      <td>0.0</td>\n",
       "      <td>0.0</td>\n",
       "      <td>0</td>\n",
       "      <td>0</td>\n",
       "    </tr>\n",
       "    <tr>\n",
       "      <th>1</th>\n",
       "      <td>1</td>\n",
       "      <td>PAYMENT</td>\n",
       "      <td>1864.28</td>\n",
       "      <td>C1666544295</td>\n",
       "      <td>21249.0</td>\n",
       "      <td>19384.72</td>\n",
       "      <td>M2044282225</td>\n",
       "      <td>0.0</td>\n",
       "      <td>0.0</td>\n",
       "      <td>0</td>\n",
       "      <td>0</td>\n",
       "    </tr>\n",
       "    <tr>\n",
       "      <th>2</th>\n",
       "      <td>1</td>\n",
       "      <td>TRANSFER</td>\n",
       "      <td>181.00</td>\n",
       "      <td>C1305486145</td>\n",
       "      <td>181.0</td>\n",
       "      <td>0.00</td>\n",
       "      <td>C553264065</td>\n",
       "      <td>0.0</td>\n",
       "      <td>0.0</td>\n",
       "      <td>1</td>\n",
       "      <td>0</td>\n",
       "    </tr>\n",
       "    <tr>\n",
       "      <th>3</th>\n",
       "      <td>1</td>\n",
       "      <td>CASH_OUT</td>\n",
       "      <td>181.00</td>\n",
       "      <td>C840083671</td>\n",
       "      <td>181.0</td>\n",
       "      <td>0.00</td>\n",
       "      <td>C38997010</td>\n",
       "      <td>21182.0</td>\n",
       "      <td>0.0</td>\n",
       "      <td>1</td>\n",
       "      <td>0</td>\n",
       "    </tr>\n",
       "    <tr>\n",
       "      <th>4</th>\n",
       "      <td>1</td>\n",
       "      <td>PAYMENT</td>\n",
       "      <td>11668.14</td>\n",
       "      <td>C2048537720</td>\n",
       "      <td>41554.0</td>\n",
       "      <td>29885.86</td>\n",
       "      <td>M1230701703</td>\n",
       "      <td>0.0</td>\n",
       "      <td>0.0</td>\n",
       "      <td>0</td>\n",
       "      <td>0</td>\n",
       "    </tr>\n",
       "  </tbody>\n",
       "</table>\n",
       "</div>"
      ],
      "text/plain": [
       "   step      type    amount     nameOrig  oldbalanceOrg  newbalanceOrig  \\\n",
       "0     1   PAYMENT   9839.64  C1231006815       170136.0       160296.36   \n",
       "1     1   PAYMENT   1864.28  C1666544295        21249.0        19384.72   \n",
       "2     1  TRANSFER    181.00  C1305486145          181.0            0.00   \n",
       "3     1  CASH_OUT    181.00   C840083671          181.0            0.00   \n",
       "4     1   PAYMENT  11668.14  C2048537720        41554.0        29885.86   \n",
       "\n",
       "      nameDest  oldbalanceDest  newbalanceDest  isFraud  isFlaggedFraud  \n",
       "0  M1979787155             0.0             0.0        0               0  \n",
       "1  M2044282225             0.0             0.0        0               0  \n",
       "2   C553264065             0.0             0.0        1               0  \n",
       "3    C38997010         21182.0             0.0        1               0  \n",
       "4  M1230701703             0.0             0.0        0               0  "
      ]
     },
     "execution_count": 35,
     "metadata": {},
     "output_type": "execute_result"
    }
   ],
   "source": [
    "df.head()"
   ]
  },
  {
   "cell_type": "code",
   "execution_count": 36,
   "id": "39ee1ccb",
   "metadata": {},
   "outputs": [
    {
     "data": {
      "text/plain": [
       "(6362620, 11)"
      ]
     },
     "execution_count": 36,
     "metadata": {},
     "output_type": "execute_result"
    }
   ],
   "source": [
    "df.shape"
   ]
  },
  {
   "cell_type": "code",
   "execution_count": 37,
   "id": "1348f1ca",
   "metadata": {},
   "outputs": [
    {
     "name": "stdout",
     "output_type": "stream",
     "text": [
      "step              0\n",
      "type              0\n",
      "amount            0\n",
      "nameOrig          0\n",
      "oldbalanceOrg     0\n",
      "newbalanceOrig    0\n",
      "nameDest          0\n",
      "oldbalanceDest    0\n",
      "newbalanceDest    0\n",
      "isFraud           0\n",
      "isFlaggedFraud    0\n",
      "dtype: int64\n",
      "Sıfır veya negatif işlem sayısı: 16\n"
     ]
    }
   ],
   "source": [
    "# Eksik değer kontrolü\n",
    "print(df.isna().sum())\n",
    "\n",
    "# Negatif veya sıfır amount kontrolü\n",
    "print(\"Sıfır veya negatif işlem sayısı:\", (df['amount'] <= 0).sum())\n"
   ]
  },
  {
   "cell_type": "code",
   "execution_count": 38,
   "id": "2ae9c6b7",
   "metadata": {},
   "outputs": [
    {
     "data": {
      "text/plain": [
       "type\n",
       "CASH_OUT    2237500\n",
       "PAYMENT     2151495\n",
       "CASH_IN     1399284\n",
       "TRANSFER     532909\n",
       "DEBIT         41432\n",
       "Name: count, dtype: int64"
      ]
     },
     "execution_count": 38,
     "metadata": {},
     "output_type": "execute_result"
    }
   ],
   "source": [
    "df['type'].value_counts()"
   ]
  },
  {
   "cell_type": "code",
   "execution_count": 39,
   "id": "3f32adf9",
   "metadata": {},
   "outputs": [
    {
     "name": "stderr",
     "output_type": "stream",
     "text": [
      "C:\\Users\\ASUS\\AppData\\Local\\Temp\\ipykernel_4996\\2171240637.py:6: FutureWarning: \n",
      "\n",
      "Passing `palette` without assigning `hue` is deprecated and will be removed in v0.14.0. Assign the `x` variable to `hue` and set `legend=False` for the same effect.\n",
      "\n",
      "  sns.countplot(x=\"type\", data=df, palette=\"deep\", order=df[\"type\"].value_counts().index)\n"
     ]
    },
    {
     "data": {
      "image/png": "[encoded data removed]",
      "text/plain": [
       "<Figure size 1000x500 with 1 Axes>"
      ]
     },
     "metadata": {},
     "output_type": "display_data"
    }
   ],
   "source": [
    "\n",
    "import pandas as pd\n",
    "import matplotlib.pyplot as plt\n",
    "import seaborn as sns\n",
    "\n",
    "plt.figure(figsize=(10,5))\n",
    "sns.countplot(x=\"type\", data=df, palette=\"deep\", order=df[\"type\"].value_counts().index)\n",
    "plt.xticks(rotation=45)\n",
    "plt.xlabel(\"Transaction Type\")\n",
    "plt.ylabel(\"Count\")\n",
    "plt.title(\"Distribution of Transaction Types\")\n",
    "plt.show()"
   ]
  },
  {
   "cell_type": "code",
   "execution_count": 40,
   "id": "74e88f8e",
   "metadata": {},
   "outputs": [
    {
     "data": {
      "text/plain": [
       "isFraud           1.000000\n",
       "amount            0.076688\n",
       "isFlaggedFraud    0.044109\n",
       "step              0.031578\n",
       "oldbalanceOrg     0.010154\n",
       "newbalanceDest    0.000535\n",
       "oldbalanceDest   -0.005885\n",
       "newbalanceOrig   -0.008148\n",
       "Name: isFraud, dtype: float64"
      ]
     },
     "execution_count": 40,
     "metadata": {},
     "output_type": "execute_result"
    }
   ],
   "source": [
    "correlation = df.select_dtypes(include=['int64','float64']).corr()\n",
    "correlation[\"isFraud\"].sort_values(ascending=False)\n"
   ]
  },
  {
   "cell_type": "code",
   "execution_count": 41,
   "id": "1b758d02",
   "metadata": {},
   "outputs": [
    {
     "name": "stdout",
     "output_type": "stream",
     "text": [
      "isFraud\n",
      "0    6354407\n",
      "1       8213\n",
      "Name: count, dtype: int64\n"
     ]
    },
    {
     "name": "stderr",
     "output_type": "stream",
     "text": [
      "C:\\Users\\ASUS\\AppData\\Local\\Temp\\ipykernel_4996\\3638811453.py:4: FutureWarning: \n",
      "\n",
      "Passing `palette` without assigning `hue` is deprecated and will be removed in v0.14.0. Assign the `x` variable to `hue` and set `legend=False` for the same effect.\n",
      "\n",
      "  sns.barplot(x=fraud_counts.index, y=fraud_counts.values, palette=\"magma\")\n"
     ]
    },
    {
     "data": {
      "image/png": "[encoded data removed]",
      "text/plain": [
       "<Figure size 1000x600 with 1 Axes>"
      ]
     },
     "metadata": {},
     "output_type": "display_data"
    }
   ],
   "source": [
    "fraud_counts=df[\"isFraud\"].value_counts()\n",
    "print(fraud_counts)\n",
    "plt.figure(figsize=(10, 6))\n",
    "sns.barplot(x=fraud_counts.index, y=fraud_counts.values, palette=\"magma\")\n",
    "plt.xticks([0, 1], [\"Not Fraud\", \"Fraud\"])\n",
    "plt.xlabel(\"Transaction Type\")\n",
    "plt.ylabel(\"Count\")\n",
    "plt.title(\"Distribution of Fraudulent Transactions\")\n",
    "plt.show()"
   ]
  },
  {
   "cell_type": "code",
   "execution_count": 42,
   "id": "ffb3069a",
   "metadata": {},
   "outputs": [
    {
     "name": "stdout",
     "output_type": "stream",
     "text": [
      "type\n",
      "TRANSFER    0.007688\n",
      "CASH_OUT    0.001840\n",
      "CASH_IN     0.000000\n",
      "DEBIT       0.000000\n",
      "PAYMENT     0.000000\n",
      "Name: isFraud, dtype: float64\n"
     ]
    }
   ],
   "source": [
    "fraud_by_type = df.groupby(\"type\")[\"isFraud\"].mean().sort_values(ascending=False)\n",
    "print(fraud_by_type)"
   ]
  },
  {
   "cell_type": "code",
   "execution_count": null,
   "id": "83160faa",
   "metadata": {},
   "outputs": [
    {
     "data": {
      "text/html": [
       "<div>\n",
       "<style scoped>\n",
       "    .dataframe tbody tr th:only-of-type {\n",
       "        vertical-align: middle;\n",
       "    }\n",
       "\n",
       "    .dataframe tbody tr th {\n",
       "        vertical-align: top;\n",
       "    }\n",
       "\n",
       "    .dataframe thead th {\n",
       "        text-align: right;\n",
       "    }\n",
       "</style>\n",
       "<table border=\"1\" class=\"dataframe\">\n",
       "  <thead>\n",
       "    <tr style=\"text-align: right;\">\n",
       "      <th></th>\n",
       "      <th>step</th>\n",
       "      <th>type</th>\n",
       "      <th>amount</th>\n",
       "      <th>nameOrig</th>\n",
       "      <th>oldbalanceOrg</th>\n",
       "      <th>newbalanceOrig</th>\n",
       "      <th>nameDest</th>\n",
       "      <th>oldbalanceDest</th>\n",
       "      <th>newbalanceDest</th>\n",
       "      <th>isFraud</th>\n",
       "      <th>isFlaggedFraud</th>\n",
       "    </tr>\n",
       "  </thead>\n",
       "  <tbody>\n",
       "    <tr>\n",
       "      <th>0</th>\n",
       "      <td>1</td>\n",
       "      <td>2</td>\n",
       "      <td>9839.64</td>\n",
       "      <td>C1231006815</td>\n",
       "      <td>170136.0</td>\n",
       "      <td>160296.36</td>\n",
       "      <td>M1979787155</td>\n",
       "      <td>0.0</td>\n",
       "      <td>0.0</td>\n",
       "      <td>0</td>\n",
       "      <td>0</td>\n",
       "    </tr>\n",
       "    <tr>\n",
       "      <th>1</th>\n",
       "      <td>1</td>\n",
       "      <td>2</td>\n",
       "      <td>1864.28</td>\n",
       "      <td>C1666544295</td>\n",
       "      <td>21249.0</td>\n",
       "      <td>19384.72</td>\n",
       "      <td>M2044282225</td>\n",
       "      <td>0.0</td>\n",
       "      <td>0.0</td>\n",
       "      <td>0</td>\n",
       "      <td>0</td>\n",
       "    </tr>\n",
       "    <tr>\n",
       "      <th>2</th>\n",
       "      <td>1</td>\n",
       "      <td>4</td>\n",
       "      <td>181.00</td>\n",
       "      <td>C1305486145</td>\n",
       "      <td>181.0</td>\n",
       "      <td>0.00</td>\n",
       "      <td>C553264065</td>\n",
       "      <td>0.0</td>\n",
       "      <td>0.0</td>\n",
       "      <td>1</td>\n",
       "      <td>0</td>\n",
       "    </tr>\n",
       "    <tr>\n",
       "      <th>3</th>\n",
       "      <td>1</td>\n",
       "      <td>1</td>\n",
       "      <td>181.00</td>\n",
       "      <td>C840083671</td>\n",
       "      <td>181.0</td>\n",
       "      <td>0.00</td>\n",
       "      <td>C38997010</td>\n",
       "      <td>21182.0</td>\n",
       "      <td>0.0</td>\n",
       "      <td>1</td>\n",
       "      <td>0</td>\n",
       "    </tr>\n",
       "    <tr>\n",
       "      <th>4</th>\n",
       "      <td>1</td>\n",
       "      <td>2</td>\n",
       "      <td>11668.14</td>\n",
       "      <td>C2048537720</td>\n",
       "      <td>41554.0</td>\n",
       "      <td>29885.86</td>\n",
       "      <td>M1230701703</td>\n",
       "      <td>0.0</td>\n",
       "      <td>0.0</td>\n",
       "      <td>0</td>\n",
       "      <td>0</td>\n",
       "    </tr>\n",
       "  </tbody>\n",
       "</table>\n",
       "</div>"
      ],
      "text/plain": [
       "   step  type    amount     nameOrig  oldbalanceOrg  newbalanceOrig  \\\n",
       "0     1     2   9839.64  C1231006815       170136.0       160296.36   \n",
       "1     1     2   1864.28  C1666544295        21249.0        19384.72   \n",
       "2     1     4    181.00  C1305486145          181.0            0.00   \n",
       "3     1     1    181.00   C840083671          181.0            0.00   \n",
       "4     1     2  11668.14  C2048537720        41554.0        29885.86   \n",
       "\n",
       "      nameDest  oldbalanceDest  newbalanceDest  isFraud  isFlaggedFraud  \n",
       "0  M1979787155             0.0             0.0        0               0  \n",
       "1  M2044282225             0.0             0.0        0               0  \n",
       "2   C553264065             0.0             0.0        1               0  \n",
       "3    C38997010         21182.0             0.0        1               0  \n",
       "4  M1230701703             0.0             0.0        0               0  "
      ]
     },
     "execution_count": 43,
     "metadata": {},
     "output_type": "execute_result"
    }
   ],
   "source": [
    "df[\"type\"] = df[\"type\"].str.strip().str.upper()\n",
    "df[\"type\"] = df[\"type\"].map({\n",
    "    \"CASH_OUT\": 1, \n",
    "    \"PAYMENT\": 2,                              \n",
    "    \"CASH_IN\": 3,\n",
    "    \"TRANSFER\": 4,\n",
    "    \"DEBIT\": 5\n",
    "})\n",
    "\n",
    "\n",
    "df.head()"
   ]
  },
  {
   "cell_type": "code",
   "execution_count": 44,
   "id": "f32ae3d7",
   "metadata": {},
   "outputs": [],
   "source": [
    "import numpy as np \n",
    "\n",
    "x = np.array(df[[\"type\", \"amount\", \"oldbalanceOrg\", \"newbalanceOrig\"]])\n",
    "\n",
    "y = np.array(df[[\"isFraud\"]])"
   ]
  },
  {
   "cell_type": "markdown",
   "id": "63df7abf",
   "metadata": {},
   "source": [
    "Data preprocessing and Machine Learning"
   ]
  },
  {
   "cell_type": "code",
   "execution_count": 45,
   "id": "8201f0b5",
   "metadata": {},
   "outputs": [],
   "source": [
    "\n",
    "fraud = df[df[\"isFraud\"] == 1]\n",
    "non_fraud = df[df[\"isFraud\"] == 0].sample(n=len(fraud), random_state=42)\n",
    "\n",
    "balanced_df = pd.concat([fraud, non_fraud])\n",
    "balanced_df = balanced_df.sample(frac=1, random_state=42)  # karıştır\n"
   ]
  },
  {
   "cell_type": "code",
   "execution_count": 47,
   "id": "bd9b7a7f",
   "metadata": {},
   "outputs": [
    {
     "name": "stdout",
     "output_type": "stream",
     "text": [
      "\n",
      "=== Random Forest ===\n",
      "              precision    recall  f1-score   support\n",
      "\n",
      "           0     0.8810    0.9008    0.8908      1643\n",
      "           1     0.8985    0.8783    0.8883      1643\n",
      "\n",
      "    accuracy                         0.8895      3286\n",
      "   macro avg     0.8897    0.8895    0.8895      3286\n",
      "weighted avg     0.8897    0.8895    0.8895      3286\n",
      "\n"
     ]
    },
    {
     "name": "stderr",
     "output_type": "stream",
     "text": [
      "c:\\Users\\ASUS\\AppData\\Local\\Programs\\Python\\Python39\\lib\\site-packages\\xgboost\\core.py:158: UserWarning: [16:11:37] WARNING: C:\\buildkite-agent\\builds\\buildkite-windows-cpu-autoscaling-group-i-08cbc0333d8d4aae1-1\\xgboost\\xgboost-ci-windows\\src\\learner.cc:740: \n",
      "Parameters: { \"use_label_encoder\" } are not used.\n",
      "\n",
      "  warnings.warn(smsg, UserWarning)\n"
     ]
    },
    {
     "name": "stdout",
     "output_type": "stream",
     "text": [
      "\n",
      "=== XGBoost ===\n",
      "              precision    recall  f1-score   support\n",
      "\n",
      "           0     0.8989    0.9148    0.9068      1643\n",
      "           1     0.9133    0.8971    0.9051      1643\n",
      "\n",
      "    accuracy                         0.9060      3286\n",
      "   macro avg     0.9061    0.9060    0.9060      3286\n",
      "weighted avg     0.9061    0.9060    0.9060      3286\n",
      "\n",
      "\n",
      "=== Logistic Regression ===\n",
      "              precision    recall  f1-score   support\n",
      "\n",
      "           0     0.8692    0.7967    0.8314      1643\n",
      "           1     0.8124    0.8801    0.8449      1643\n",
      "\n",
      "    accuracy                         0.8384      3286\n",
      "   macro avg     0.8408    0.8384    0.8381      3286\n",
      "weighted avg     0.8408    0.8384    0.8381      3286\n",
      "\n",
      "\n",
      "=== Karşılaştırma Tablosu ===\n",
      "                     Accuracy  Precision    Recall  F1-Score   ROC-AUC\n",
      "Model                                                                 \n",
      "Random Forest        0.889531   0.898506  0.878271  0.888273  0.959157\n",
      "XGBoost              0.905965   0.913259  0.897139  0.905127  0.966125\n",
      "Logistic Regression  0.838405   0.812360  0.880097  0.844873  0.923006\n"
     ]
    },
    {
     "data": {
      "image/png": "[encoded data removed]",
      "text/plain": [
       "<Figure size 800x500 with 1 Axes>"
      ]
     },
     "metadata": {},
     "output_type": "display_data"
    },
    {
     "name": "stdout",
     "output_type": "stream",
     "text": [
      "\n",
      "✅ En iyi model: XGBoost (F1=0.9051) -> 'best_model.pkl' kaydedildi\n"
     ]
    }
   ],
   "source": [
    "import numpy as np\n",
    "import pandas as pd\n",
    "import matplotlib.pyplot as plt\n",
    "from sklearn.model_selection import train_test_split\n",
    "from sklearn.metrics import (accuracy_score, precision_score, recall_score,\n",
    "                             f1_score, roc_auc_score, classification_report)\n",
    "from sklearn.ensemble import RandomForestClassifier\n",
    "from sklearn.linear_model import LogisticRegression\n",
    "from xgboost import XGBClassifier\n",
    "import joblib\n",
    "\n",
    "# ------------------------------\n",
    "# 1) Veri: sadece güvenli sütunlar\n",
    "# ------------------------------\n",
    "USE_COLUMNS = [\"type\", \"amount\", \"step\"]\n",
    "\n",
    "# RF ve XGB için doğrudan kullanılacak\n",
    "X_base = balanced_df[USE_COLUMNS].copy()\n",
    "y = balanced_df[\"isFraud\"].astype(int)\n",
    "\n",
    "# Logistic Regression için one-hot encoding\n",
    "X_lr = pd.get_dummies(X_base, columns=[\"type\"], prefix=\"type\")\n",
    "\n",
    "# ------------------------------\n",
    "# 2) Train/Test böl\n",
    "# ------------------------------\n",
    "X_train_base, X_test_base, y_train, y_test = train_test_split(\n",
    "    X_base, y, test_size=0.20, random_state=42, stratify=y\n",
    ")\n",
    "\n",
    "X_train_lr, X_test_lr, _, _ = train_test_split(\n",
    "    X_lr, y, test_size=0.20, random_state=42, stratify=y\n",
    ")\n",
    "\n",
    "# ------------------------------\n",
    "# 3) Modeller\n",
    "# ------------------------------\n",
    "models = {\n",
    "    \"Random Forest\": (RandomForestClassifier(n_estimators=300, random_state=42, n_jobs=-1),\n",
    "                      X_train_base, X_test_base),\n",
    "    \"XGBoost\": (XGBClassifier(\n",
    "        use_label_encoder=False, eval_metric=\"logloss\",\n",
    "        n_estimators=500, learning_rate=0.06, max_depth=6,\n",
    "        subsample=0.9, colsample_bytree=0.9, random_state=42, n_jobs=-1\n",
    "    ), X_train_base, X_test_base),\n",
    "    \"Logistic Regression\": (LogisticRegression(max_iter=2000, random_state=42),\n",
    "                            X_train_lr, X_test_lr)\n",
    "}\n",
    "\n",
    "# ------------------------------\n",
    "# 4) Eğitim, tahmin, metrikler\n",
    "# ------------------------------\n",
    "results = []\n",
    "\n",
    "for name, (model, X_tr, X_te) in models.items():\n",
    "    model.fit(X_tr, y_train)\n",
    "    y_pred = model.predict(X_te)\n",
    "    y_proba = model.predict_proba(X_te)[:, 1]\n",
    "    \n",
    "    acc = accuracy_score(y_test, y_pred)\n",
    "    prec = precision_score(y_test, y_pred)\n",
    "    rec = recall_score(y_test, y_pred)\n",
    "    f1 = f1_score(y_test, y_pred)\n",
    "    roc = roc_auc_score(y_test, y_proba)\n",
    "\n",
    "    results.append({\n",
    "        \"Model\": name,\n",
    "        \"Accuracy\": acc,\n",
    "        \"Precision\": prec,\n",
    "        \"Recall\": rec,\n",
    "        \"F1-Score\": f1,\n",
    "        \"ROC-AUC\": roc\n",
    "    })\n",
    "\n",
    "    print(f\"\\n=== {name} ===\")\n",
    "    print(classification_report(y_test, y_pred, digits=4))\n",
    "\n",
    "# ------------------------------\n",
    "# 5) Karşılaştırma Tablosu\n",
    "# ------------------------------\n",
    "results_df = pd.DataFrame(results).set_index(\"Model\")\n",
    "print(\"\\n=== Karşılaştırma Tablosu ===\")\n",
    "print(results_df)\n",
    "\n",
    "# ------------------------------\n",
    "# 6) Görselleştirme\n",
    "# ------------------------------\n",
    "results_df[[\"Accuracy\", \"F1-Score\"]].plot(kind=\"bar\", figsize=(8,5))\n",
    "plt.title(\"Accuracy ve F1-Score Karşılaştırması\")\n",
    "plt.ylim(0,1)\n",
    "plt.tight_layout()\n",
    "plt.show()\n",
    "\n",
    "# ------------------------------\n",
    "# 7) En iyi modeli kaydet (F1'e göre)\n",
    "# ------------------------------\n",
    "best_name = results_df[\"F1-Score\"].idxmax()\n",
    "best_model = models[best_name][0]\n",
    "joblib.dump(best_model, \"best_model.pkl\")\n",
    "print(f\"\\n✅ En iyi model: {best_name} (F1={results_df.loc[best_name,'F1-Score']:.4f}) -> 'best_model.pkl' kaydedildi\")\n"
   ]
  },
  {
   "cell_type": "code",
   "execution_count": 29,
   "id": "fb3de57c",
   "metadata": {},
   "outputs": [
    {
     "name": "stdout",
     "output_type": "stream",
     "text": [
      "\n",
      "=== Random Forest ===\n",
      "Confusion Matrix:\n",
      "[[1483  160]\n",
      " [ 203 1440]]\n",
      "\n",
      "Classification Report:\n",
      "              precision    recall  f1-score   support\n",
      "\n",
      "           0       0.88      0.90      0.89      1643\n",
      "           1       0.90      0.88      0.89      1643\n",
      "\n",
      "    accuracy                           0.89      3286\n",
      "   macro avg       0.89      0.89      0.89      3286\n",
      "weighted avg       0.89      0.89      0.89      3286\n",
      "\n"
     ]
    },
    {
     "name": "stderr",
     "output_type": "stream",
     "text": [
      "c:\\Users\\ASUS\\AppData\\Local\\Programs\\Python\\Python39\\lib\\site-packages\\xgboost\\core.py:158: UserWarning: [15:37:53] WARNING: C:\\buildkite-agent\\builds\\buildkite-windows-cpu-autoscaling-group-i-08cbc0333d8d4aae1-1\\xgboost\\xgboost-ci-windows\\src\\learner.cc:740: \n",
      "Parameters: { \"use_label_encoder\" } are not used.\n",
      "\n",
      "  warnings.warn(smsg, UserWarning)\n"
     ]
    },
    {
     "name": "stdout",
     "output_type": "stream",
     "text": [
      "\n",
      "=== XGBoost ===\n",
      "Confusion Matrix:\n",
      "[[1495  148]\n",
      " [ 158 1485]]\n",
      "\n",
      "Classification Report:\n",
      "              precision    recall  f1-score   support\n",
      "\n",
      "           0       0.90      0.91      0.91      1643\n",
      "           1       0.91      0.90      0.91      1643\n",
      "\n",
      "    accuracy                           0.91      3286\n",
      "   macro avg       0.91      0.91      0.91      3286\n",
      "weighted avg       0.91      0.91      0.91      3286\n",
      "\n",
      "\n",
      "=== Logistic Regression ===\n",
      "Confusion Matrix:\n",
      "[[1309  334]\n",
      " [ 197 1446]]\n",
      "\n",
      "Classification Report:\n",
      "              precision    recall  f1-score   support\n",
      "\n",
      "           0       0.87      0.80      0.83      1643\n",
      "           1       0.81      0.88      0.84      1643\n",
      "\n",
      "    accuracy                           0.84      3286\n",
      "   macro avg       0.84      0.84      0.84      3286\n",
      "weighted avg       0.84      0.84      0.84      3286\n",
      "\n"
     ]
    },
    {
     "data": {
      "image/png": "[encoded data removed]",
      "text/plain": [
       "<Figure size 800x500 with 1 Axes>"
      ]
     },
     "metadata": {},
     "output_type": "display_data"
    }
   ],
   "source": [
    "from sklearn.model_selection import train_test_split\n",
    "from sklearn.ensemble import RandomForestClassifier\n",
    "from sklearn.linear_model import LogisticRegression\n",
    "from xgboost import XGBClassifier\n",
    "from sklearn.metrics import classification_report, confusion_matrix, f1_score\n",
    "import pandas as pd\n",
    "import matplotlib.pyplot as plt\n",
    "\n",
    "# 1️⃣ Dengelenmiş veri setinden X ve y oluştur\n",
    "X = balanced_df.drop([\n",
    "    \"isFraud\",          \n",
    "    \"isFlaggedFraud\",   \n",
    "    \"nameOrig\",         \n",
    "    \"nameDest\",         \n",
    "    \"oldbalanceOrg\", \n",
    "    \"newbalanceOrig\", \n",
    "    \"oldbalanceDest\", \n",
    "    \"newbalanceDest\"\n",
    "], axis=1)\n",
    "\n",
    "X = pd.get_dummies(X, columns=['type'], prefix='type')\n",
    "y = balanced_df['isFraud']\n",
    "\n",
    "# 2️⃣ Eğitim ve test setine böl\n",
    "X_train, X_test, y_train, y_test = train_test_split(\n",
    "    X, y, test_size=0.2, random_state=42, stratify=y\n",
    ")\n",
    "\n",
    "# 3️⃣ Modelleri oluştur\n",
    "models = {\n",
    "    \"Random Forest\": RandomForestClassifier(n_estimators=100, random_state=42),\n",
    "    \"XGBoost\": XGBClassifier(use_label_encoder=False, eval_metric='logloss', random_state=42),\n",
    "    \"Logistic Regression\": LogisticRegression(max_iter=1000, random_state=42)\n",
    "}\n",
    "\n",
    "# 4️⃣ Modelleri eğit ve F1-score kaydet\n",
    "f1_scores = {}\n",
    "\n",
    "for name, model in models.items():\n",
    "    model.fit(X_train, y_train)\n",
    "    y_pred = model.predict(X_test)\n",
    "    f1 = f1_score(y_test, y_pred)\n",
    "    f1_scores[name] = f1\n",
    "    print(f\"\\n=== {name} ===\")\n",
    "    print(\"Confusion Matrix:\")\n",
    "    print(confusion_matrix(y_test, y_pred))\n",
    "    print(\"\\nClassification Report:\")\n",
    "    print(classification_report(y_test, y_pred))\n",
    "\n",
    "# 5️⃣ F1-score karşılaştırma grafiği\n",
    "plt.figure(figsize=(8,5))\n",
    "plt.bar(f1_scores.keys(), f1_scores.values(), color=['skyblue','salmon','lightgreen'])\n",
    "plt.title('Modellerin F1-Score Karşılaştırması')\n",
    "plt.ylabel('F1-Score')\n",
    "plt.ylim(0,1)\n",
    "plt.show()\n"
   ]
  },
  {
   "cell_type": "code",
   "execution_count": 30,
   "id": "cb81b2eb",
   "metadata": {},
   "outputs": [
    {
     "name": "stdout",
     "output_type": "stream",
     "text": [
      "Confusion Matrix:\n",
      "[[1495  148]\n",
      " [ 158 1485]]\n",
      "\n",
      "Classification Report:\n",
      "              precision    recall  f1-score   support\n",
      "\n",
      "           0       0.90      0.91      0.91      1643\n",
      "           1       0.91      0.90      0.91      1643\n",
      "\n",
      "    accuracy                           0.91      3286\n",
      "   macro avg       0.91      0.91      0.91      3286\n",
      "weighted avg       0.91      0.91      0.91      3286\n",
      "\n",
      "F1-Score: 0.9065934065934066\n",
      "XGBoost modeli kaydedildi: xgb_fraud_model.pkl\n"
     ]
    },
    {
     "name": "stderr",
     "output_type": "stream",
     "text": [
      "c:\\Users\\ASUS\\AppData\\Local\\Programs\\Python\\Python39\\lib\\site-packages\\xgboost\\core.py:158: UserWarning: [15:37:54] WARNING: C:\\buildkite-agent\\builds\\buildkite-windows-cpu-autoscaling-group-i-08cbc0333d8d4aae1-1\\xgboost\\xgboost-ci-windows\\src\\learner.cc:740: \n",
      "Parameters: { \"use_label_encoder\" } are not used.\n",
      "\n",
      "  warnings.warn(smsg, UserWarning)\n"
     ]
    }
   ],
   "source": [
    "from sklearn.model_selection import train_test_split\n",
    "from xgboost import XGBClassifier\n",
    "from sklearn.metrics import f1_score, classification_report, confusion_matrix\n",
    "import pandas as pd\n",
    "import joblib\n",
    "\n",
    "# 1️⃣ Dengelenmiş veri setinden X ve y oluştur\n",
    "X = balanced_df.drop([\n",
    "    \"isFraud\",          \n",
    "    \"isFlaggedFraud\",   \n",
    "    \"nameOrig\",         \n",
    "    \"nameDest\",         \n",
    "    \"oldbalanceOrg\", \n",
    "    \"newbalanceOrig\", \n",
    "    \"oldbalanceDest\", \n",
    "    \"newbalanceDest\"\n",
    "], axis=1)\n",
    "\n",
    "X = pd.get_dummies(X, columns=['type'], prefix='type')\n",
    "y = balanced_df['isFraud']\n",
    "\n",
    "# 2️⃣ Eğitim ve test setine böl\n",
    "X_train, X_test, y_train, y_test = train_test_split(\n",
    "    X, y, test_size=0.2, random_state=42, stratify=y\n",
    ")\n",
    "\n",
    "# 3️⃣ XGBoost modelini oluştur ve eğit\n",
    "xgb_model = XGBClassifier(use_label_encoder=False, eval_metric='logloss', random_state=42)\n",
    "xgb_model.fit(X_train, y_train)\n",
    "\n",
    "# 4️⃣ Model performansını kontrol et\n",
    "y_pred = xgb_model.predict(X_test)\n",
    "print(\"Confusion Matrix:\")\n",
    "print(confusion_matrix(y_test, y_pred))\n",
    "print(\"\\nClassification Report:\")\n",
    "print(classification_report(y_test, y_pred))\n",
    "print(\"F1-Score:\", f1_score(y_test, y_pred))\n",
    "\n",
    "# 5️⃣ Modeli kaydet\n",
    "joblib.dump(xgb_model, \"xgb_fraud_model.pkl\")\n",
    "print(\"XGBoost modeli kaydedildi: xgb_fraud_model.pkl\")\n"
   ]
  }
 ],
 "metadata": {
  "kernelspec": {
   "display_name": "Python 3",
   "language": "python",
   "name": "python3"
  },
  "language_info": {
   "codemirror_mode": {
    "name": "ipython",
    "version": 3
   },
   "file_extension": ".py",
   "mimetype": "text/x-python",
   "name": "python",
   "nbconvert_exporter": "python",
   "pygments_lexer": "ipython3",
   "version": "3.9.6"
  }
 },
 "nbformat": 4,
 "nbformat_minor": 5
}
